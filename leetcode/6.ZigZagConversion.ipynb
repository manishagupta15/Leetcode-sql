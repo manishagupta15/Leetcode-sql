{
 "cells": [
  {
   "cell_type": "code",
   "execution_count": 52,
   "metadata": {},
   "outputs": [],
   "source": [
    "class Solution:\n",
    "    def convert(self, s: str, numRows: int) -> str:\n",
    "        if numRows == 1 or numRows>=len(s): # edge cases checking\n",
    "            return s\n",
    "        res = [[] for i in range(numRows)]\n",
    "        delta = -1\n",
    "        row = 0\n",
    "        # putting each letter in zigzag way\n",
    "        for item in s:\n",
    "            res[row].append(item)\n",
    "            if row ==0 or row == numRows-1:\n",
    "                delta*=-1\n",
    "            row+=delta\n",
    "            \n",
    "        #consolidated result\n",
    "        res1= [''.join(x) for x in res]\n",
    "        res2= ''.join(res1)   \n",
    "        return res2"
   ]
  },
  {
   "cell_type": "code",
   "execution_count": 55,
   "metadata": {},
   "outputs": [
    {
     "data": {
      "text/plain": [
       "'pahnaplsiigyir'"
      ]
     },
     "execution_count": 55,
     "metadata": {},
     "output_type": "execute_result"
    }
   ],
   "source": [
    "s = 'paypalishiring'\n",
    "numRows = 3\n",
    "obj = Solution()\n",
    "obj.convert(s,numRows)"
   ]
  }
 ],
 "metadata": {
  "kernelspec": {
   "display_name": "Python 3",
   "language": "python",
   "name": "python3"
  },
  "language_info": {
   "codemirror_mode": {
    "name": "ipython",
    "version": 3
   },
   "file_extension": ".py",
   "mimetype": "text/x-python",
   "name": "python",
   "nbconvert_exporter": "python",
   "pygments_lexer": "ipython3",
   "version": "3.7.3"
  }
 },
 "nbformat": 4,
 "nbformat_minor": 2
}
