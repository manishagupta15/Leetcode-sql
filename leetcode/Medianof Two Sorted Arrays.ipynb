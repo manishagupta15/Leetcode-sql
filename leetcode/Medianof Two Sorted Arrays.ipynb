{
 "cells": [
  {
   "cell_type": "code",
   "execution_count": 4,
   "metadata": {},
   "outputs": [],
   "source": [
    "ls = [10,1,2,4,5]\n",
    "i = 0;\n",
    "j = 0;"
   ]
  },
  {
   "cell_type": "code",
   "execution_count": 5,
   "metadata": {},
   "outputs": [
    {
     "name": "stdout",
     "output_type": "stream",
     "text": [
      "[1, 2, 4, 5, 10]\n"
     ]
    }
   ],
   "source": [
    "for i in range(0,len(ls)-1):\n",
    "    for j in range(0,len(ls)-1):\n",
    "        if ls[j]>ls[j+1]:\n",
    "            temp = ls[j]\n",
    "            ls[j]=ls[j+1]\n",
    "            ls[j+1]=temp\n",
    "            \n",
    "print(ls)"
   ]
  },
  {
   "cell_type": "code",
   "execution_count": 62,
   "metadata": {},
   "outputs": [
    {
     "name": "stdout",
     "output_type": "stream",
     "text": [
      "7\n",
      "[3, 4, 4, 7, 11, 12, 20]\n",
      "7\n"
     ]
    }
   ],
   "source": [
    "# Final answer\n",
    "class Solution:\n",
    "    def MedianSortedArray(nums1,nums2):\n",
    "        n=sorted(nums1+nums2)\n",
    "        print(n)\n",
    "        return(((n[int((len(n)/2)-1)]+n[int((len(n)/2)+1)-1])/2) if len(n)%2==0 else n[int((len(n)+1)/2)-1])\n",
    "\n",
    "nums1=[11,12,7]\n",
    "nums2=[3,20,4,4]\n",
    "n=sorted(nums1+nums2)\n",
    "        \n",
    "\n",
    "import statistics as s\n",
    "print(s.median(nums1+nums2))\n",
    "print(Solution.MedianSortedArray(nums1,nums2))\n"
   ]
  },
  {
   "cell_type": "code",
   "execution_count": null,
   "metadata": {},
   "outputs": [],
   "source": []
  }
 ],
 "metadata": {
  "kernelspec": {
   "display_name": "Python 3",
   "language": "python",
   "name": "python3"
  },
  "language_info": {
   "codemirror_mode": {
    "name": "ipython",
    "version": 3
   },
   "file_extension": ".py",
   "mimetype": "text/x-python",
   "name": "python",
   "nbconvert_exporter": "python",
   "pygments_lexer": "ipython3",
   "version": "3.8.5"
  }
 },
 "nbformat": 4,
 "nbformat_minor": 2
}
