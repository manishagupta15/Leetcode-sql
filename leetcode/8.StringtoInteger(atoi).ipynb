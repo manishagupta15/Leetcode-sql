{
 "cells": [
  {
   "cell_type": "code",
   "execution_count": 25,
   "metadata": {},
   "outputs": [],
   "source": [
    "class Solution:\n",
    "    def myAtoi(self, s: str) -> int:\n",
    "        sign = 1\n",
    "        ls= list(s.strip())\n",
    "        \n",
    "        if ls[0] in ['+','-']:\n",
    "            if ls[0]=='-':\n",
    "                sign = -1\n",
    "            ls=ls[1:]\n",
    "        # checking the digits\n",
    "        isdigit = set('0123456789')\n",
    "        res, i = 0,0\n",
    "        while i < len(ls) and ls[i] in isdigit:\n",
    "            res= res*10 +int(ls[i])\n",
    "            i+=1\n",
    "            \n",
    "        res=res*sign\n",
    "        if res < 0:\n",
    "            return max(res,-2**31)\n",
    "        \n",
    "        return min(res,2**31-1)\n",
    "        \n",
    "            \n",
    "        \n",
    "            \n",
    "        "
   ]
  },
  {
   "cell_type": "code",
   "execution_count": 28,
   "metadata": {},
   "outputs": [
    {
     "data": {
      "text/plain": [
       "-9976"
      ]
     },
     "execution_count": 28,
     "metadata": {},
     "output_type": "execute_result"
    }
   ],
   "source": [
    "s = '  -9976paypalishiring'\n",
    "obj = Solution()\n",
    "obj.myAtoi(s)"
   ]
  }
 ],
 "metadata": {
  "kernelspec": {
   "display_name": "Python 3",
   "language": "python",
   "name": "python3"
  },
  "language_info": {
   "codemirror_mode": {
    "name": "ipython",
    "version": 3
   },
   "file_extension": ".py",
   "mimetype": "text/x-python",
   "name": "python",
   "nbconvert_exporter": "python",
   "pygments_lexer": "ipython3",
   "version": "3.7.3"
  }
 },
 "nbformat": 4,
 "nbformat_minor": 2
}
