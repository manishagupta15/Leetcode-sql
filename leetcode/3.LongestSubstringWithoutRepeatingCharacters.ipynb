{
 "cells": [
  {
   "cell_type": "code",
   "execution_count": 22,
   "metadata": {},
   "outputs": [],
   "source": [
    "class LongestSubstring:\n",
    "       def lengthOfLongestSubstring(self, s: str):\n",
    "            i=0\n",
    "            j=1\n",
    "            lss=0\n",
    "            if len(s)<2:\n",
    "                return (len(s))\n",
    "            while j<=len(s):\n",
    "                if len(set(s[i:j]))<len(s[i:j]):\n",
    "                    i+=1\n",
    "                lss=max(lss,len(s[i:j]))\n",
    "                j+=1\n",
    "            return lss\n",
    "    "
   ]
  },
  {
   "cell_type": "code",
   "execution_count": 26,
   "metadata": {},
   "outputs": [
    {
     "data": {
      "text/plain": [
       "3"
      ]
     },
     "execution_count": 26,
     "metadata": {},
     "output_type": "execute_result"
    }
   ],
   "source": [
    "s='pwwkew'\n",
    "LongestSubstring.lengthOfLongestSubstring(s,s)"
   ]
  }
 ],
 "metadata": {
  "kernelspec": {
   "display_name": "Python 3",
   "language": "python",
   "name": "python3"
  },
  "language_info": {
   "codemirror_mode": {
    "name": "ipython",
    "version": 3
   },
   "file_extension": ".py",
   "mimetype": "text/x-python",
   "name": "python",
   "nbconvert_exporter": "python",
   "pygments_lexer": "ipython3",
   "version": "3.8.5"
  }
 },
 "nbformat": 4,
 "nbformat_minor": 2
}
