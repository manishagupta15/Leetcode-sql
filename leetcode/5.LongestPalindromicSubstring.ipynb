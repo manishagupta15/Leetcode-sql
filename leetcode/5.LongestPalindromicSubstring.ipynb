{
 "cells": [
  {
   "cell_type": "code",
   "execution_count": 69,
   "metadata": {},
   "outputs": [],
   "source": [
    "s='aa'"
   ]
  },
  {
   "cell_type": "code",
   "execution_count": 74,
   "metadata": {},
   "outputs": [],
   "source": [
    "class LongestPalindrome:\n",
    "            \n",
    "    def longestPalindrome(self,s:str):\n",
    "        length=len(s)\n",
    "        palindrome=''\n",
    "        palindrome_length=0\n",
    "        i=0;j=0;\n",
    "        for i in range(length):\n",
    "            j=i+1\n",
    "            while j <=length:\n",
    "                if self.isPalindrome(s[i:j]) and palindrome_length < len(s[i:j]):\n",
    "                    palindrome_length = len(s[i:j])\n",
    "                    palindrome = s[i:j]\n",
    "                    if palindrome_length == length:\n",
    "                        return palindrome\n",
    "                j+=1\n",
    "        return palindrome\n",
    "    def isPalindrome(self,s):\n",
    "            return s == s[::-1]\n",
    "              "
   ]
  }
 ],
 "metadata": {
  "kernelspec": {
   "display_name": "Python 3",
   "language": "python",
   "name": "python3"
  },
  "language_info": {
   "codemirror_mode": {
    "name": "ipython",
    "version": 3
   },
   "file_extension": ".py",
   "mimetype": "text/x-python",
   "name": "python",
   "nbconvert_exporter": "python",
   "pygments_lexer": "ipython3",
   "version": "3.8.5"
  }
 },
 "nbformat": 4,
 "nbformat_minor": 2
}
